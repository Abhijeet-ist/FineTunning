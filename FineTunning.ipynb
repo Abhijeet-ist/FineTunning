{
  "cells": [
    {
      "cell_type": "code",
      "execution_count": null,
      "metadata": {
        "execution": {
          "iopub.execute_input": "2025-08-04T07:08:29.415337Z",
          "iopub.status.busy": "2025-08-04T07:08:29.414571Z",
          "iopub.status.idle": "2025-08-04T07:08:33.806640Z",
          "shell.execute_reply": "2025-08-04T07:08:33.805709Z",
          "shell.execute_reply.started": "2025-08-04T07:08:29.415306Z"
        },
        "trusted": true
      },
      "outputs": [],
      "source": [
        "# INSTALL REQUIRED LIBRARIES\n",
        "!pip install -q bitsandbytes accelerate transformers datasets peft trl\n",
        "\n",
        "# LOAD DATASET\n",
        "import json\n",
        "from datasets import Dataset\n",
        "\n",
        "with open(\"/kaggle/input/PATH OF YOUR DATASET\", \"r\") as f:\n",
        "    data = json.load(f)\n",
        "\n",
        "dataset = Dataset.from_list(data).train_test_split(test_size=0.1)\n",
        "\n",
        "# LOGIN TO HUGGINGFACE\n",
        "from huggingface_hub import login\n",
        "login(token=\"Use your real token\")  # Use your real token\n",
        "\n",
        "# LOAD TOKENIZER\n",
        "from transformers import AutoTokenizer\n",
        "model_id = \"YOUR MODEL ID\"\n",
        "\n",
        "tokenizer = AutoTokenizer.from_pretrained(model_id)\n",
        "if tokenizer.pad_token is None:\n",
        "    tokenizer.pad_token = tokenizer.eos_token\n"
      ]
    },
    {
      "cell_type": "code",
      "execution_count": null,
      "metadata": {
        "execution": {
          "iopub.execute_input": "2025-08-04T07:08:33.808479Z",
          "iopub.status.busy": "2025-08-04T07:08:33.808172Z",
          "iopub.status.idle": "2025-08-04T07:11:24.353156Z",
          "shell.execute_reply": "2025-08-04T07:11:24.352346Z",
          "shell.execute_reply.started": "2025-08-04T07:08:33.808455Z"
        },
        "trusted": true
      },
      "outputs": [],
      "source": [
        "# LOAD QUANTIZED MODEL\n",
        "from transformers import AutoModelForCausalLM, BitsAndBytesConfig\n",
        "\n",
        "bnb_config = BitsAndBytesConfig(\n",
        "    load_in_4bit=True,\n",
        "    bnb_4bit_use_double_quant=True,\n",
        "    bnb_4bit_compute_dtype=\"float16\",\n",
        "    bnb_4bit_quant_type=\"nf4\"\n",
        ")\n",
        "\n",
        "model = AutoModelForCausalLM.from_pretrained(\n",
        "    model_id,\n",
        "    device_map=\"auto\",\n",
        "    quantization_config=bnb_config\n",
        ")\n",
        "\n",
        "# APPLY LoRA\n",
        "from peft import get_peft_model, LoraConfig, TaskType\n",
        "\n",
        "peft_config = LoraConfig(\n",
        "    r=8,\n",
        "    lora_alpha=16,\n",
        "    target_modules=[\"q_proj\", \"v_proj\"],\n",
        "    lora_dropout=0.1,\n",
        "    bias=\"none\",\n",
        "    task_type=TaskType.CAUSAL_LM\n",
        ")\n",
        "\n",
        "model = get_peft_model(model, peft_config)\n",
        "model.print_trainable_parameters()"
      ]
    },
    {
      "cell_type": "code",
      "execution_count": null,
      "metadata": {
        "execution": {
          "iopub.execute_input": "2025-08-04T07:11:24.354909Z",
          "iopub.status.busy": "2025-08-04T07:11:24.354112Z",
          "iopub.status.idle": "2025-08-04T07:13:35.548455Z",
          "shell.execute_reply": "2025-08-04T07:13:35.547838Z",
          "shell.execute_reply.started": "2025-08-04T07:11:24.354863Z"
        },
        "trusted": true
      },
      "outputs": [],
      "source": [
        "# FORMAT + TOKENIZE\n",
        "def format_chat(example):\n",
        "    return {\n",
        "        \"text\": f\"### Instruction:\\n{example['instruction']}\\n\\n### Response:\\n{example['response']}\"\n",
        "    }\n",
        "\n",
        "formatted = dataset.map(format_chat)\n",
        "\n",
        "def tokenize(example):\n",
        "    encoding = tokenizer(\n",
        "        example[\"text\"],\n",
        "        truncation=True,\n",
        "        padding=\"max_length\",\n",
        "        max_length=512\n",
        "    )\n",
        "    encoding[\"labels\"] = encoding[\"input_ids\"].copy()\n",
        "    return encoding\n",
        "\n",
        "tokenized = formatted.map(tokenize)\n",
        "\n",
        "# ✅ DATALOADER\n",
        "from transformers import DataCollatorForLanguageModeling\n",
        "\n",
        "data_collator = DataCollatorForLanguageModeling(\n",
        "    tokenizer=tokenizer,\n",
        "    mlm=False\n",
        ")"
      ]
    },
    {
      "cell_type": "code",
      "execution_count": null,
      "metadata": {
        "execution": {
          "iopub.execute_input": "2025-08-04T07:13:35.550697Z",
          "iopub.status.busy": "2025-08-04T07:13:35.550215Z",
          "iopub.status.idle": "2025-08-04T07:50:46.789685Z",
          "shell.execute_reply": "2025-08-04T07:50:46.788951Z",
          "shell.execute_reply.started": "2025-08-04T07:13:35.550678Z"
        },
        "trusted": true
      },
      "outputs": [],
      "source": [
        "# TRAINING ARGS (Optimized for Kaggle Free Tier)\n",
        "from transformers import TrainingArguments, Trainer\n",
        "\n",
        "training_args = TrainingArguments(\n",
        "    output_dir=\"./output\",\n",
        "    per_device_train_batch_size=1,\n",
        "    gradient_accumulation_steps=4,  # Slows down memory usage\n",
        "    learning_rate=2e-4,\n",
        "    num_train_epochs=1,\n",
        "    max_steps=500,                 # Stops after 500 steps (~30–40 mins)\n",
        "    logging_dir=\"./logs\",\n",
        "    logging_steps=10,\n",
        "    save_steps=100,\n",
        "    save_total_limit=2,\n",
        "    report_to=\"none\",\n",
        "    fp16=True,\n",
        "    logging_first_step=True,\n",
        "    disable_tqdm=False\n",
        ")\n",
        "\n",
        "# TRAINER\n",
        "from transformers import DataCollatorForLanguageModeling\n",
        "data_collator = DataCollatorForLanguageModeling(tokenizer, mlm=False)\n",
        "\n",
        "trainer = Trainer(\n",
        "    model=model,\n",
        "    args=training_args,\n",
        "    train_dataset=tokenized[\"train\"],\n",
        "    eval_dataset=tokenized[\"test\"],\n",
        "    data_collator=data_collator\n",
        ")\n",
        "\n",
        "# START TRAINING\n",
        "trainer.train()\n",
        "\n",
        "# SAVE LoRA ADAPTER ONLY (lightweight)\n",
        "model.save_pretrained(\"YOUR DESIRED NAME\")\n",
        "tokenizer.save_pretrained(\"YOUR DESIRED NAME\")"
      ]
    }
  ],
  "metadata": {
    "kaggle": {
      "accelerator": "nvidiaTeslaT4",
      "dataSources": [
        {
          "datasetId": 8004250,
          "sourceId": 12666290,
          "sourceType": "datasetVersion"
        }
      ],
      "dockerImageVersionId": 31089,
      "isGpuEnabled": true,
      "isInternetEnabled": true,
      "language": "python",
      "sourceType": "notebook"
    },
    "kernelspec": {
      "display_name": "Python 3",
      "language": "python",
      "name": "python3"
    },
    "language_info": {
      "codemirror_mode": {
        "name": "ipython",
        "version": 3
      },
      "file_extension": ".py",
      "mimetype": "text/x-python",
      "name": "python",
      "nbconvert_exporter": "python",
      "pygments_lexer": "ipython3",
      "version": "3.11.13"
    }
  },
  "nbformat": 4,
  "nbformat_minor": 4
}
